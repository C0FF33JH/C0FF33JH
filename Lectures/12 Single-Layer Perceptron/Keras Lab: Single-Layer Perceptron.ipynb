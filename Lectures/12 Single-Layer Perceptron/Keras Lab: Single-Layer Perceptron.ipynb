{
  "nbformat": 4,
  "nbformat_minor": 0,
  "metadata": {
    "colab": {
      "provenance": [],
      "gpuType": "T4",
      "include_colab_link": true
    },
    "kernelspec": {
      "name": "python3",
      "display_name": "Python 3"
    },
    "language_info": {
      "name": "python"
    },
    "accelerator": "GPU"
  },
  "cells": [
    {
      "cell_type": "markdown",
      "metadata": {
        "id": "view-in-github",
        "colab_type": "text"
      },
      "source": [
        "<a href=\"https://colab.research.google.com/github/C0FF33JH/C0FF33JH/blob/main/Lectures/12%20Single-Layer%20Perceptron/Keras%20Lab%3A%20Single-Layer%20Perceptron.ipynb\" target=\"_parent\"><img src=\"https://colab.research.google.com/assets/colab-badge.svg\" alt=\"Open In Colab\"/></a>"
      ]
    },
    {
      "cell_type": "markdown",
      "source": [
        "# Single-Layer Perceptrons (SLPs)\n",
        "\n",
        "## Table of Contents\n",
        "1. [Introduction & Prerequisites](#1-introduction-prerequisites)  \n",
        "2. [What is a Single-Layer Perceptron?](#2-what-is-a-single-layer-perceptron)  \n",
        "3. [Sigmoid vs. Softmax — Key Differences](#3-sigmoid-vs-softmax)  \n",
        "4. [Data Exploration & Insights](#4-data-exploration--insights)  \n",
        "5. [Binary Classification: Breast Cancer (`sklearn.datasets`)](#5-binary-classification)  \n",
        "   - [Handling Class Imbalance (Conceptual)](#51-handling-class-imbalance)  \n",
        "6. [Hyperparameter Tuning (Learning Rates, Epochs)](#6-hyperparameter-tuning)  \n",
        "7. [Multi-Class Classification: Fashion MNIST (`keras.datasets`)](#7-multi-class-classification)  \n",
        "   - [Visualizing Weights in the SLP](#71-visualizing-weights)  \n",
        "   - [More Detailed Error Analysis](#72-more-detailed-error-analysis)  \n",
        "8. [Saving & Loading Models (End-to-End Workflow)](#8-saving--loading-models)  \n",
        "9. [Lab Skeleton Notebook for Students](#9-lab-skeleton-notebook-for-students)  \n",
        "10. [Wrap-up & Further Study](#10-wrap-up--further-study)"
      ],
      "metadata": {
        "id": "JFaZiYirgTHd"
      }
    },
    {
      "cell_type": "markdown",
      "source": [
        "## 1. Introduction & Prerequisites\n",
        "\n",
        "**Goal**:  \n",
        "Build a **Single-Layer Perceptron (SLP)** for **binary classification** (Breast Cancer) and **multi-class classification** (Fashion MNIST). Along the way, we will:\n",
        "- Explore data for better intuition.\n",
        "- Implement **hyperparameter tuning** (learning rates, epochs).\n",
        "- Visualize learned **weights** (for image data).\n",
        "- Perform a more **detailed error analysis**.\n",
        "- Discuss **handling class imbalance** conceptually.\n",
        "- Demonstrate **saving & loading** models for an end-to-end ML workflow.\n",
        "\n",
        "**Prerequisites**:\n",
        "- Basic Python, NumPy, and Matplotlib.\n",
        "- Familiarity with classification tasks (binary and multi-class).\n",
        "- Libraries: `tensorflow`, `scikit-learn`, `matplotlib`, `numpy`.\n",
        "\n",
        "```bash\n",
        "pip install --upgrade pip\n",
        "pip install tensorflow scikit-learn matplotlib numpy\n",
        "```"
      ],
      "metadata": {
        "id": "PcpOKc1-gpVG"
      }
    },
    {
      "cell_type": "markdown",
      "source": [
        "## 2. What is a Single-Layer Perceptron?\n",
        "\n",
        "A **Single-Layer Perceptron (SLP)** is one of the most fundamental neural network models. It consists of:\n",
        "- **Input Layer**: Receives features $\\{x_1, x_2, \\ldots, x_n\\}$.  \n",
        "- **Output Layer**: Produces predictions (probabilities or logits).  \n",
        "- **No Hidden Layers**: Exactly one set of weights from inputs to outputs.\n",
        "\n",
        "**Typical SLP Setup**:\n",
        "1. **Binary classification**:\n",
        "   - **1 output neuron** (sigmoid activation).  \n",
        "   - **Binary crossentropy** loss.\n",
        "2. **Multi-class classification** (e.g., 10 classes):\n",
        "   - **$k$ output neurons** (softmax activation).  \n",
        "   - **(Sparse) categorical crossentropy** loss.\n",
        "\n",
        "**Number of parameters** = $(\\text{input_dim} \\times \\text{output_dim}) + \\text{output_dim}$.  \n",
        "- If input_dim = 784 (flattened 28×28) and output_dim = 10 => $(784 \\times 10) + 10 = 7850$ parameters."
      ],
      "metadata": {
        "id": "J7yezp1UgzH7"
      }
    },
    {
      "cell_type": "markdown",
      "source": [
        "# 3. Sigmoid vs. Softmax — Key Differences\n",
        "\n",
        "1. **Sigmoid** $\\sigma(z)$  \n",
        "   - **Formula**: $\\sigma(z) = \\frac{1}{1 + e^{-z}}$.  \n",
        "   - **Output Range**: $(0, 1)$.  \n",
        "   - Perfect for **binary** classification: 1 output neuron yields a probability for class = 1.\n",
        "\n",
        "2. **Softmax**  \n",
        "   - **Formula**: $\\text{softmax}(z_j) = \\frac{e^{z_j}}{\\sum_{k} e^{z_k}}$.  \n",
        "   - **Output Range**: Each class probability in $(0, 1)$, summing to 1.  \n",
        "   - Perfect for **multi-class** classification: $\\text{output_dim} = \\text{#classes}$."
      ],
      "metadata": {
        "id": "oLDjdK3chPkV"
      }
    },
    {
      "cell_type": "markdown",
      "source": [
        "## 4. Data Exploration & Insights\n",
        "\n",
        "Before diving into modeling, a brief **data exploration** helps us understand:\n",
        "- Feature distributions.\n",
        "- Potential class imbalances.\n",
        "- Correlations or outliers.\n",
        "\n",
        "In the **Breast Cancer** dataset, we might:\n",
        "- Examine basic statistics of each feature (mean, std).\n",
        "- Count how many “malignant” vs. “benign” samples to check if it’s balanced.\n",
        "\n",
        "In **Fashion MNIST**, we might:\n",
        "- Display a few sample images to see what the data looks like.\n",
        "\n",
        "**Why do this?**  \n",
        "1. **Better Intuition**: We know whether the dataset is balanced or skewed.  \n",
        "2. **Feature Engineering**: EDA can suggest if scaling or transformations are needed.  \n",
        "3. **Detecting Anomalies**: Sometimes there are outliers or missing values.\n",
        "\n",
        "Below, we’ll incorporate minimal EDA to illustrate these points."
      ],
      "metadata": {
        "id": "Q1AN2LxRh0hk"
      }
    },
    {
      "cell_type": "markdown",
      "source": [
        "## 5. Binary Classification: Breast Cancer (`sklearn.datasets`)\n",
        "\n",
        "### 5.1 Load & Quick Exploration"
      ],
      "metadata": {
        "id": "NgXPTCtYiVbv"
      }
    },
    {
      "cell_type": "code",
      "source": [
        "import numpy as np\n",
        "import tensorflow as tf\n",
        "import matplotlib.pyplot as plt\n",
        "\n",
        "from sklearn.datasets import load_breast_cancer\n",
        "data_bc = load_breast_cancer()\n",
        "\n",
        "X_bc = data_bc.data   # (569, 30) typically\n",
        "y_bc = data_bc.target # (569,) => 0 or 1\n",
        "\n",
        "print(\"Features shape:\", X_bc.shape)\n",
        "print(\"Labels shape:\", y_bc.shape)\n",
        "print(\"Feature names:\", data_bc.feature_names)\n",
        "print(\"Class distribution:\\n\",\n",
        "      {name: count for name, count in zip(data_bc.target_names, np.bincount(y_bc))})"
      ],
      "metadata": {
        "id": "JXONgE9vicKG",
        "outputId": "0a65ae63-c56a-49a8-d18e-ee98ec932a4c",
        "colab": {
          "base_uri": "https://localhost:8080/"
        }
      },
      "execution_count": 1,
      "outputs": [
        {
          "output_type": "stream",
          "name": "stdout",
          "text": [
            "Features shape: (569, 30)\n",
            "Labels shape: (569,)\n",
            "Feature names: ['mean radius' 'mean texture' 'mean perimeter' 'mean area'\n",
            " 'mean smoothness' 'mean compactness' 'mean concavity'\n",
            " 'mean concave points' 'mean symmetry' 'mean fractal dimension'\n",
            " 'radius error' 'texture error' 'perimeter error' 'area error'\n",
            " 'smoothness error' 'compactness error' 'concavity error'\n",
            " 'concave points error' 'symmetry error' 'fractal dimension error'\n",
            " 'worst radius' 'worst texture' 'worst perimeter' 'worst area'\n",
            " 'worst smoothness' 'worst compactness' 'worst concavity'\n",
            " 'worst concave points' 'worst symmetry' 'worst fractal dimension']\n",
            "Class distribution:\n",
            " {'malignant': 212, 'benign': 357}\n"
          ]
        }
      ]
    },
    {
      "cell_type": "markdown",
      "source": [
        "**What the above code does**:\n",
        "- Prints shapes, checks how many features (30).\n",
        "- Prints how many malignant vs. benign cases."
      ],
      "metadata": {
        "id": "zTEzVA2XigFC"
      }
    },
    {
      "cell_type": "markdown",
      "source": [
        "#### Handling Class Imbalance (Conceptual)\n",
        "If we find significant imbalance (say 90% benign, 10% malignant), we might:\n",
        "- Use **metrics** like `precision`, `recall`, `F1-score` instead of just accuracy.  \n",
        "- Adjust **class_weights** in `model.fit()`.  \n",
        "- Perform **oversampling** or **undersampling**.  \n",
        "\n",
        "Breast Cancer is not extremely imbalanced, but it’s still important to check."
      ],
      "metadata": {
        "id": "R6qG9thYimwv"
      }
    },
    {
      "cell_type": "markdown",
      "source": [
        "### 5.2 Split, Scale, and Build SLP"
      ],
      "metadata": {
        "id": "gw6qVsskgxAa"
      }
    },
    {
      "cell_type": "code",
      "source": [
        "from sklearn.model_selection import train_test_split\n",
        "from sklearn.preprocessing import StandardScaler\n",
        "\n",
        "X_train_bc, X_test_bc, y_train_bc, y_test_bc = train_test_split(\n",
        "    X_bc, y_bc,\n",
        "    test_size=0.2,\n",
        "    random_state=42\n",
        ")\n",
        "\n",
        "scaler_bc = StandardScaler()\n",
        "X_train_bc_scaled = scaler_bc.fit_transform(X_train_bc)\n",
        "X_test_bc_scaled  = scaler_bc.transform(X_test_bc)\n",
        "\n",
        "import tensorflow as tf\n",
        "from tensorflow import keras\n",
        "from tensorflow.keras import layers\n",
        "# RERUN THE ENTIRE SECTION TO RETRAIN\n",
        "model_bc = keras.Sequential([\n",
        "    layers.Dense(1, activation='sigmoid', input_shape=(X_train_bc.shape[1],))\n",
        "])\n",
        "model_bc.compile(\n",
        "    optimizer='adam',\n",
        "    loss='binary_crossentropy',\n",
        "    metrics=['accuracy']\n",
        ")\n",
        "\n",
        "model_bc.summary()"
      ],
      "metadata": {
        "id": "Udlt8EeBiydz",
        "outputId": "ecbf03d6-79cc-4a78-8049-16f06d7358e6",
        "colab": {
          "base_uri": "https://localhost:8080/",
          "height": 221
        }
      },
      "execution_count": 2,
      "outputs": [
        {
          "output_type": "stream",
          "name": "stderr",
          "text": [
            "/usr/local/lib/python3.10/dist-packages/keras/src/layers/core/dense.py:87: UserWarning: Do not pass an `input_shape`/`input_dim` argument to a layer. When using Sequential models, prefer using an `Input(shape)` object as the first layer in the model instead.\n",
            "  super().__init__(activity_regularizer=activity_regularizer, **kwargs)\n"
          ]
        },
        {
          "output_type": "display_data",
          "data": {
            "text/plain": [
              "\u001b[1mModel: \"sequential\"\u001b[0m\n"
            ],
            "text/html": [
              "<pre style=\"white-space:pre;overflow-x:auto;line-height:normal;font-family:Menlo,'DejaVu Sans Mono',consolas,'Courier New',monospace\"><span style=\"font-weight: bold\">Model: \"sequential\"</span>\n",
              "</pre>\n"
            ]
          },
          "metadata": {}
        },
        {
          "output_type": "display_data",
          "data": {
            "text/plain": [
              "┏━━━━━━━━━━━━━━━━━━━━━━━━━━━━━━━━━━━━━━┳━━━━━━━━━━━━━━━━━━━━━━━━━━━━━┳━━━━━━━━━━━━━━━━━┓\n",
              "┃\u001b[1m \u001b[0m\u001b[1mLayer (type)                        \u001b[0m\u001b[1m \u001b[0m┃\u001b[1m \u001b[0m\u001b[1mOutput Shape               \u001b[0m\u001b[1m \u001b[0m┃\u001b[1m \u001b[0m\u001b[1m        Param #\u001b[0m\u001b[1m \u001b[0m┃\n",
              "┡━━━━━━━━━━━━━━━━━━━━━━━━━━━━━━━━━━━━━━╇━━━━━━━━━━━━━━━━━━━━━━━━━━━━━╇━━━━━━━━━━━━━━━━━┩\n",
              "│ dense (\u001b[38;5;33mDense\u001b[0m)                        │ (\u001b[38;5;45mNone\u001b[0m, \u001b[38;5;34m1\u001b[0m)                   │              \u001b[38;5;34m31\u001b[0m │\n",
              "└──────────────────────────────────────┴─────────────────────────────┴─────────────────┘\n"
            ],
            "text/html": [
              "<pre style=\"white-space:pre;overflow-x:auto;line-height:normal;font-family:Menlo,'DejaVu Sans Mono',consolas,'Courier New',monospace\">┏━━━━━━━━━━━━━━━━━━━━━━━━━━━━━━━━━━━━━━┳━━━━━━━━━━━━━━━━━━━━━━━━━━━━━┳━━━━━━━━━━━━━━━━━┓\n",
              "┃<span style=\"font-weight: bold\"> Layer (type)                         </span>┃<span style=\"font-weight: bold\"> Output Shape                </span>┃<span style=\"font-weight: bold\">         Param # </span>┃\n",
              "┡━━━━━━━━━━━━━━━━━━━━━━━━━━━━━━━━━━━━━━╇━━━━━━━━━━━━━━━━━━━━━━━━━━━━━╇━━━━━━━━━━━━━━━━━┩\n",
              "│ dense (<span style=\"color: #0087ff; text-decoration-color: #0087ff\">Dense</span>)                        │ (<span style=\"color: #00d7ff; text-decoration-color: #00d7ff\">None</span>, <span style=\"color: #00af00; text-decoration-color: #00af00\">1</span>)                   │              <span style=\"color: #00af00; text-decoration-color: #00af00\">31</span> │\n",
              "└──────────────────────────────────────┴─────────────────────────────┴─────────────────┘\n",
              "</pre>\n"
            ]
          },
          "metadata": {}
        },
        {
          "output_type": "display_data",
          "data": {
            "text/plain": [
              "\u001b[1m Total params: \u001b[0m\u001b[38;5;34m31\u001b[0m (124.00 B)\n"
            ],
            "text/html": [
              "<pre style=\"white-space:pre;overflow-x:auto;line-height:normal;font-family:Menlo,'DejaVu Sans Mono',consolas,'Courier New',monospace\"><span style=\"font-weight: bold\"> Total params: </span><span style=\"color: #00af00; text-decoration-color: #00af00\">31</span> (124.00 B)\n",
              "</pre>\n"
            ]
          },
          "metadata": {}
        },
        {
          "output_type": "display_data",
          "data": {
            "text/plain": [
              "\u001b[1m Trainable params: \u001b[0m\u001b[38;5;34m31\u001b[0m (124.00 B)\n"
            ],
            "text/html": [
              "<pre style=\"white-space:pre;overflow-x:auto;line-height:normal;font-family:Menlo,'DejaVu Sans Mono',consolas,'Courier New',monospace\"><span style=\"font-weight: bold\"> Trainable params: </span><span style=\"color: #00af00; text-decoration-color: #00af00\">31</span> (124.00 B)\n",
              "</pre>\n"
            ]
          },
          "metadata": {}
        },
        {
          "output_type": "display_data",
          "data": {
            "text/plain": [
              "\u001b[1m Non-trainable params: \u001b[0m\u001b[38;5;34m0\u001b[0m (0.00 B)\n"
            ],
            "text/html": [
              "<pre style=\"white-space:pre;overflow-x:auto;line-height:normal;font-family:Menlo,'DejaVu Sans Mono',consolas,'Courier New',monospace\"><span style=\"font-weight: bold\"> Non-trainable params: </span><span style=\"color: #00af00; text-decoration-color: #00af00\">0</span> (0.00 B)\n",
              "</pre>\n"
            ]
          },
          "metadata": {}
        }
      ]
    },
    {
      "cell_type": "markdown",
      "source": [
        "### 5.3 Train & Evaluate"
      ],
      "metadata": {
        "id": "w7bpmVguixOP"
      }
    },
    {
      "cell_type": "code",
      "source": [
        "history_bc = model_bc.fit(\n",
        "    X_train_bc_scaled, y_train_bc,\n",
        "    validation_split=0.2,\n",
        "    epochs=10,\n",
        "    # 32 data points per iteration\n",
        "    batch_size=32,\n",
        "    verbose=1\n",
        ")\n",
        "\n",
        "test_loss_bc, test_acc_bc = model_bc.evaluate(X_test_bc_scaled, y_test_bc)\n",
        "print(f\"BC Test Loss: {test_loss_bc:.4f}\")\n",
        "print(f\"BC Test Accuracy: {test_acc_bc:.4f}\")"
      ],
      "metadata": {
        "id": "eTLEtR1NiwlK",
        "outputId": "65cbde1a-6b28-4c98-e26c-22053af949b6",
        "colab": {
          "base_uri": "https://localhost:8080/"
        }
      },
      "execution_count": 3,
      "outputs": [
        {
          "output_type": "stream",
          "name": "stdout",
          "text": [
            "Epoch 1/10\n",
            "\u001b[1m12/12\u001b[0m \u001b[32m━━━━━━━━━━━━━━━━━━━━\u001b[0m\u001b[37m\u001b[0m \u001b[1m2s\u001b[0m 101ms/step - accuracy: 0.4632 - loss: 0.8466 - val_accuracy: 0.5165 - val_loss: 0.7912\n",
            "Epoch 2/10\n",
            "\u001b[1m12/12\u001b[0m \u001b[32m━━━━━━━━━━━━━━━━━━━━\u001b[0m\u001b[37m\u001b[0m \u001b[1m0s\u001b[0m 5ms/step - accuracy: 0.5820 - loss: 0.7435 - val_accuracy: 0.5495 - val_loss: 0.7241\n",
            "Epoch 3/10\n",
            "\u001b[1m12/12\u001b[0m \u001b[32m━━━━━━━━━━━━━━━━━━━━\u001b[0m\u001b[37m\u001b[0m \u001b[1m0s\u001b[0m 5ms/step - accuracy: 0.6095 - loss: 0.7039 - val_accuracy: 0.6044 - val_loss: 0.6653\n",
            "Epoch 4/10\n",
            "\u001b[1m12/12\u001b[0m \u001b[32m━━━━━━━━━━━━━━━━━━━━\u001b[0m\u001b[37m\u001b[0m \u001b[1m0s\u001b[0m 5ms/step - accuracy: 0.6708 - loss: 0.6160 - val_accuracy: 0.6593 - val_loss: 0.6139\n",
            "Epoch 5/10\n",
            "\u001b[1m12/12\u001b[0m \u001b[32m━━━━━━━━━━━━━━━━━━━━\u001b[0m\u001b[37m\u001b[0m \u001b[1m0s\u001b[0m 4ms/step - accuracy: 0.7369 - loss: 0.5355 - val_accuracy: 0.7253 - val_loss: 0.5698\n",
            "Epoch 6/10\n",
            "\u001b[1m12/12\u001b[0m \u001b[32m━━━━━━━━━━━━━━━━━━━━\u001b[0m\u001b[37m\u001b[0m \u001b[1m0s\u001b[0m 4ms/step - accuracy: 0.7651 - loss: 0.5199 - val_accuracy: 0.7582 - val_loss: 0.5318\n",
            "Epoch 7/10\n",
            "\u001b[1m12/12\u001b[0m \u001b[32m━━━━━━━━━━━━━━━━━━━━\u001b[0m\u001b[37m\u001b[0m \u001b[1m0s\u001b[0m 5ms/step - accuracy: 0.7905 - loss: 0.4935 - val_accuracy: 0.7692 - val_loss: 0.4986\n",
            "Epoch 8/10\n",
            "\u001b[1m12/12\u001b[0m \u001b[32m━━━━━━━━━━━━━━━━━━━━\u001b[0m\u001b[37m\u001b[0m \u001b[1m0s\u001b[0m 5ms/step - accuracy: 0.7663 - loss: 0.4964 - val_accuracy: 0.7802 - val_loss: 0.4689\n",
            "Epoch 9/10\n",
            "\u001b[1m12/12\u001b[0m \u001b[32m━━━━━━━━━━━━━━━━━━━━\u001b[0m\u001b[37m\u001b[0m \u001b[1m0s\u001b[0m 6ms/step - accuracy: 0.7913 - loss: 0.4480 - val_accuracy: 0.7912 - val_loss: 0.4437\n",
            "Epoch 10/10\n",
            "\u001b[1m12/12\u001b[0m \u001b[32m━━━━━━━━━━━━━━━━━━━━\u001b[0m\u001b[37m\u001b[0m \u001b[1m0s\u001b[0m 5ms/step - accuracy: 0.8373 - loss: 0.3984 - val_accuracy: 0.7912 - val_loss: 0.4209\n",
            "\u001b[1m4/4\u001b[0m \u001b[32m━━━━━━━━━━━━━━━━━━━━\u001b[0m\u001b[37m\u001b[0m \u001b[1m0s\u001b[0m 53ms/step - accuracy: 0.8855 - loss: 0.3278\n",
            "BC Test Loss: 0.3478\n",
            "BC Test Accuracy: 0.8596\n"
          ]
        }
      ]
    },
    {
      "cell_type": "markdown",
      "source": [
        "#### Plot Learning Curves"
      ],
      "metadata": {
        "id": "6cfLAyq4i8YI"
      }
    },
    {
      "cell_type": "code",
      "source": [
        "plt.figure(figsize=(12,4))\n",
        "plt.subplot(1,2,1)\n",
        "plt.plot(history_bc.history['loss'], label='Train Loss')\n",
        "plt.plot(history_bc.history['val_loss'], label='Val Loss')\n",
        "plt.title(\"BC - Loss\")\n",
        "plt.xlabel(\"Epoch\")\n",
        "plt.ylabel(\"Loss\")\n",
        "plt.legend()\n",
        "\n",
        "plt.subplot(1,2,2)\n",
        "plt.plot(history_bc.history['accuracy'], label='Train Acc')\n",
        "plt.plot(history_bc.history['val_accuracy'], label='Val Acc')\n",
        "plt.title(\"BC - Accuracy\")\n",
        "plt.xlabel(\"Epoch\")\n",
        "plt.ylabel(\"Accuracy\")\n",
        "plt.legend()\n",
        "\n",
        "plt.show()"
      ],
      "metadata": {
        "id": "mP6Goe2Ji-XZ",
        "outputId": "934d8227-9c3d-495a-9b2b-f698d8a50a68",
        "colab": {
          "base_uri": "https://localhost:8080/",
          "height": 408
        }
      },
      "execution_count": 4,
      "outputs": [
        {
          "output_type": "display_data",
          "data": {
            "text/plain": [
              "<Figure size 1200x400 with 2 Axes>"
            ],
            "image/png": "[encoded data removed]"
          },
          "metadata": {}
        }
      ]
    },
    {
      "cell_type": "markdown",
      "source": [
        "#### Confusion Matrix & Classification Report"
      ],
      "metadata": {
        "id": "ElBHbJ3SjDKb"
      }
    },
    {
      "cell_type": "code",
      "source": [
        "from sklearn.metrics import confusion_matrix, classification_report\n",
        "\n",
        "y_pred_bc_probs = model_bc.predict(X_test_bc_scaled)\n",
        "y_pred_bc = (y_pred_bc_probs > 0.5).astype(int).ravel()\n",
        "\n",
        "cm_bc = confusion_matrix(y_test_bc, y_pred_bc)\n",
        "print(\"Breast Cancer Confusion Matrix:\\n\", cm_bc)\n",
        "\n",
        "print(\"Breast Cancer Classification Report:\\n\",\n",
        "      classification_report(y_test_bc, y_pred_bc))"
      ],
      "metadata": {
        "id": "WlkIeId4jFlz",
        "outputId": "c4f8d1e1-b460-4ff8-c502-a82bb5453eae",
        "colab": {
          "base_uri": "https://localhost:8080/"
        }
      },
      "execution_count": 5,
      "outputs": [
        {
          "output_type": "stream",
          "name": "stdout",
          "text": [
            "\u001b[1m4/4\u001b[0m \u001b[32m━━━━━━━━━━━━━━━━━━━━\u001b[0m\u001b[37m\u001b[0m \u001b[1m0s\u001b[0m 40ms/step\n",
            "Breast Cancer Confusion Matrix:\n",
            " [[34  9]\n",
            " [ 7 64]]\n",
            "Breast Cancer Classification Report:\n",
            "               precision    recall  f1-score   support\n",
            "\n",
            "           0       0.83      0.79      0.81        43\n",
            "           1       0.88      0.90      0.89        71\n",
            "\n",
            "    accuracy                           0.86       114\n",
            "   macro avg       0.85      0.85      0.85       114\n",
            "weighted avg       0.86      0.86      0.86       114\n",
            "\n"
          ]
        }
      ]
    },
    {
      "cell_type": "markdown",
      "source": [
        "### 5.1 Handling Class Imbalance (Conceptual)"
      ],
      "metadata": {
        "id": "sxjdjolYjIsN"
      }
    },
    {
      "cell_type": "code",
      "source": [
        "# If, for instance, we discovered a heavy imbalance in classes,\n",
        "# we could try:\n",
        "\n",
        "# model_bc.fit(\n",
        "#    X_train_bc_scaled, y_train_bc,\n",
        "#    class_weight={0: 2.0, 1: 1.0},  # Example weighting\n",
        "#    ...\n",
        "# )"
      ],
      "metadata": {
        "id": "_RZGYITwjNyI"
      },
      "execution_count": 6,
      "outputs": []
    },
    {
      "cell_type": "markdown",
      "source": [
        "> **Why?**  \n",
        "> Giving **higher weight** to the minority class can help the network pay more attention to it, improving metrics like recall for that class.\n",
        "\n",
        "Since the Breast Cancer dataset is not severely imbalanced, we might not need this, but it’s **important** students understand how to handle imbalance if it arises."
      ],
      "metadata": {
        "id": "LD0erXuAjRGI"
      }
    },
    {
      "cell_type": "markdown",
      "source": [
        "## 6. Hyperparameter Tuning (Learning Rates, Epochs)\n",
        "\n",
        "**Hyperparameters** such as:\n",
        "- **Learning rate** (`optimizer` parameters, e.g., `Adam(lr=0.001)`).\n",
        "- **Number of epochs**.\n",
        "- **Batch size**.\n",
        "\n",
        "significantly influence model performance."
      ],
      "metadata": {
        "id": "I1_I9u4NjVqm"
      }
    },
    {
      "cell_type": "markdown",
      "source": [
        "### 6.1 Example: Adjusting Learning Rate & Epochs"
      ],
      "metadata": {
        "id": "YZxFPOkpjZEQ"
      }
    },
    {
      "cell_type": "code",
      "source": [
        "from tensorflow.keras.optimizers import Adam\n",
        "\n",
        "# Let's try a smaller learning rate and more epochs\n",
        "model_bc_tuned = keras.Sequential([\n",
        "    layers.Dense(1, activation='sigmoid', input_shape=(X_train_bc.shape[1],))\n",
        "])\n",
        "# e.g. learning_rate=0.0005 instead of the default 0.001\n",
        "model_bc_tuned.compile(\n",
        "    optimizer=Adam(learning_rate=0.0005),\n",
        "    loss='binary_crossentropy',\n",
        "    metrics=['accuracy']\n",
        ")\n",
        "\n",
        "history_bc_tuned = model_bc_tuned.fit(\n",
        "    X_train_bc_scaled, y_train_bc,\n",
        "    validation_split=0.2,\n",
        "    epochs=50,  # increased\n",
        "    batch_size=32,\n",
        "    verbose=1\n",
        ")\n",
        "\n",
        "test_loss_tuned, test_acc_tuned = model_bc_tuned.evaluate(X_test_bc_scaled, y_test_bc)\n",
        "print(f\"Tuned BC Loss: {test_loss_tuned:.4f}\")\n",
        "print(f\"Tuned BC Accuracy: {test_acc_tuned:.4f}\")"
      ],
      "metadata": {
        "id": "lsXHALKkjTaL",
        "outputId": "376a6b3b-fbf5-4d8a-ec0a-64c1ff7c3093",
        "colab": {
          "base_uri": "https://localhost:8080/"
        }
      },
      "execution_count": 7,
      "outputs": [
        {
          "output_type": "stream",
          "name": "stdout",
          "text": [
            "Epoch 1/50\n"
          ]
        },
        {
          "output_type": "stream",
          "name": "stderr",
          "text": [
            "/usr/local/lib/python3.10/dist-packages/keras/src/layers/core/dense.py:87: UserWarning: Do not pass an `input_shape`/`input_dim` argument to a layer. When using Sequential models, prefer using an `Input(shape)` object as the first layer in the model instead.\n",
            "  super().__init__(activity_regularizer=activity_regularizer, **kwargs)\n"
          ]
        },
        {
          "output_type": "stream",
          "name": "stdout",
          "text": [
            "\u001b[1m12/12\u001b[0m \u001b[32m━━━━━━━━━━━━━━━━━━━━\u001b[0m\u001b[37m\u001b[0m \u001b[1m2s\u001b[0m 60ms/step - accuracy: 0.6909 - loss: 0.5480 - val_accuracy: 0.7692 - val_loss: 0.5173\n",
            "Epoch 2/50\n",
            "\u001b[1m12/12\u001b[0m \u001b[32m━━━━━━━━━━━━━━━━━━━━\u001b[0m\u001b[37m\u001b[0m \u001b[1m0s\u001b[0m 4ms/step - accuracy: 0.6747 - loss: 0.5454 - val_accuracy: 0.8022 - val_loss: 0.4874\n",
            "Epoch 3/50\n",
            "\u001b[1m12/12\u001b[0m \u001b[32m━━━━━━━━━━━━━━━━━━━━\u001b[0m\u001b[37m\u001b[0m \u001b[1m0s\u001b[0m 5ms/step - accuracy: 0.7767 - loss: 0.4894 - val_accuracy: 0.8022 - val_loss: 0.4605\n",
            "Epoch 4/50\n",
            "\u001b[1m12/12\u001b[0m \u001b[32m━━━━━━━━━━━━━━━━━━━━\u001b[0m\u001b[37m\u001b[0m \u001b[1m0s\u001b[0m 4ms/step - accuracy: 0.7676 - loss: 0.4689 - val_accuracy: 0.8352 - val_loss: 0.4362\n",
            "Epoch 5/50\n",
            "\u001b[1m12/12\u001b[0m \u001b[32m━━━━━━━━━━━━━━━━━━━━\u001b[0m\u001b[37m\u001b[0m \u001b[1m0s\u001b[0m 4ms/step - accuracy: 0.8291 - loss: 0.4791 - val_accuracy: 0.8462 - val_loss: 0.4138\n",
            "Epoch 6/50\n",
            "\u001b[1m12/12\u001b[0m \u001b[32m━━━━━━━━━━━━━━━━━━━━\u001b[0m\u001b[37m\u001b[0m \u001b[1m0s\u001b[0m 6ms/step - accuracy: 0.8372 - loss: 0.4334 - val_accuracy: 0.8901 - val_loss: 0.3938\n",
            "Epoch 7/50\n",
            "\u001b[1m12/12\u001b[0m \u001b[32m━━━━━━━━━━━━━━━━━━━━\u001b[0m\u001b[37m\u001b[0m \u001b[1m0s\u001b[0m 4ms/step - accuracy: 0.8528 - loss: 0.4040 - val_accuracy: 0.9011 - val_loss: 0.3760\n",
            "Epoch 8/50\n",
            "\u001b[1m12/12\u001b[0m \u001b[32m━━━━━━━━━━━━━━━━━━━━\u001b[0m\u001b[37m\u001b[0m \u001b[1m0s\u001b[0m 4ms/step - accuracy: 0.8728 - loss: 0.3902 - val_accuracy: 0.9231 - val_loss: 0.3596\n",
            "Epoch 9/50\n",
            "\u001b[1m12/12\u001b[0m \u001b[32m━━━━━━━━━━━━━━━━━━━━\u001b[0m\u001b[37m\u001b[0m \u001b[1m0s\u001b[0m 4ms/step - accuracy: 0.9012 - loss: 0.3623 - val_accuracy: 0.9231 - val_loss: 0.3446\n",
            "Epoch 10/50\n",
            "\u001b[1m12/12\u001b[0m \u001b[32m━━━━━━━━━━━━━━━━━━━━\u001b[0m\u001b[37m\u001b[0m \u001b[1m0s\u001b[0m 5ms/step - accuracy: 0.9081 - loss: 0.3565 - val_accuracy: 0.9231 - val_loss: 0.3311\n",
            "Epoch 11/50\n",
            "\u001b[1m12/12\u001b[0m \u001b[32m━━━━━━━━━━━━━━━━━━━━\u001b[0m\u001b[37m\u001b[0m \u001b[1m0s\u001b[0m 5ms/step - accuracy: 0.9253 - loss: 0.3261 - val_accuracy: 0.9231 - val_loss: 0.3193\n",
            "Epoch 12/50\n",
            "\u001b[1m12/12\u001b[0m \u001b[32m━━━━━━━━━━━━━━━━━━━━\u001b[0m\u001b[37m\u001b[0m \u001b[1m0s\u001b[0m 4ms/step - accuracy: 0.9379 - loss: 0.3192 - val_accuracy: 0.9231 - val_loss: 0.3080\n",
            "Epoch 13/50\n",
            "\u001b[1m12/12\u001b[0m \u001b[32m━━━━━━━━━━━━━━━━━━━━\u001b[0m\u001b[37m\u001b[0m \u001b[1m0s\u001b[0m 6ms/step - accuracy: 0.9380 - loss: 0.3189 - val_accuracy: 0.9231 - val_loss: 0.2977\n",
            "Epoch 14/50\n",
            "\u001b[1m12/12\u001b[0m \u001b[32m━━━━━━━━━━━━━━━━━━━━\u001b[0m\u001b[37m\u001b[0m \u001b[1m0s\u001b[0m 4ms/step - accuracy: 0.9308 - loss: 0.3158 - val_accuracy: 0.9121 - val_loss: 0.2884\n",
            "Epoch 15/50\n",
            "\u001b[1m12/12\u001b[0m \u001b[32m━━━━━━━━━━━━━━━━━━━━\u001b[0m\u001b[37m\u001b[0m \u001b[1m0s\u001b[0m 5ms/step - accuracy: 0.9285 - loss: 0.3082 - val_accuracy: 0.9121 - val_loss: 0.2800\n",
            "Epoch 16/50\n",
            "\u001b[1m12/12\u001b[0m \u001b[32m━━━━━━━━━━━━━━━━━━━━\u001b[0m\u001b[37m\u001b[0m \u001b[1m0s\u001b[0m 6ms/step - accuracy: 0.9448 - loss: 0.2903 - val_accuracy: 0.9121 - val_loss: 0.2721\n",
            "Epoch 17/50\n",
            "\u001b[1m12/12\u001b[0m \u001b[32m━━━━━━━━━━━━━━━━━━━━\u001b[0m\u001b[37m\u001b[0m \u001b[1m0s\u001b[0m 4ms/step - accuracy: 0.9388 - loss: 0.2916 - val_accuracy: 0.9121 - val_loss: 0.2646\n",
            "Epoch 18/50\n",
            "\u001b[1m12/12\u001b[0m \u001b[32m━━━━━━━━━━━━━━━━━━━━\u001b[0m\u001b[37m\u001b[0m \u001b[1m0s\u001b[0m 6ms/step - accuracy: 0.9460 - loss: 0.2810 - val_accuracy: 0.9121 - val_loss: 0.2578\n",
            "Epoch 19/50\n",
            "\u001b[1m12/12\u001b[0m \u001b[32m━━━━━━━━━━━━━━━━━━━━\u001b[0m\u001b[37m\u001b[0m \u001b[1m0s\u001b[0m 4ms/step - accuracy: 0.9441 - loss: 0.2702 - val_accuracy: 0.9121 - val_loss: 0.2516\n",
            "Epoch 20/50\n",
            "\u001b[1m12/12\u001b[0m \u001b[32m━━━━━━━━━━━━━━━━━━━━\u001b[0m\u001b[37m\u001b[0m \u001b[1m0s\u001b[0m 6ms/step - accuracy: 0.9699 - loss: 0.2490 - val_accuracy: 0.9231 - val_loss: 0.2460\n",
            "Epoch 21/50\n",
            "\u001b[1m12/12\u001b[0m \u001b[32m━━━━━━━━━━━━━━━━━━━━\u001b[0m\u001b[37m\u001b[0m \u001b[1m0s\u001b[0m 4ms/step - accuracy: 0.9551 - loss: 0.2510 - val_accuracy: 0.9231 - val_loss: 0.2407\n",
            "Epoch 22/50\n",
            "\u001b[1m12/12\u001b[0m \u001b[32m━━━━━━━━━━━━━━━━━━━━\u001b[0m\u001b[37m\u001b[0m \u001b[1m0s\u001b[0m 4ms/step - accuracy: 0.9533 - loss: 0.2544 - val_accuracy: 0.9231 - val_loss: 0.2358\n",
            "Epoch 23/50\n",
            "\u001b[1m12/12\u001b[0m \u001b[32m━━━━━━━━━━━━━━━━━━━━\u001b[0m\u001b[37m\u001b[0m \u001b[1m0s\u001b[0m 4ms/step - accuracy: 0.9570 - loss: 0.2411 - val_accuracy: 0.9231 - val_loss: 0.2311\n",
            "Epoch 24/50\n",
            "\u001b[1m12/12\u001b[0m \u001b[32m━━━━━━━━━━━━━━━━━━━━\u001b[0m\u001b[37m\u001b[0m \u001b[1m0s\u001b[0m 5ms/step - accuracy: 0.9405 - loss: 0.2442 - val_accuracy: 0.9121 - val_loss: 0.2268\n",
            "Epoch 25/50\n",
            "\u001b[1m12/12\u001b[0m \u001b[32m━━━━━━━━━━━━━━━━━━━━\u001b[0m\u001b[37m\u001b[0m \u001b[1m0s\u001b[0m 5ms/step - accuracy: 0.9613 - loss: 0.2379 - val_accuracy: 0.9121 - val_loss: 0.2226\n",
            "Epoch 26/50\n",
            "\u001b[1m12/12\u001b[0m \u001b[32m━━━━━━━━━━━━━━━━━━━━\u001b[0m\u001b[37m\u001b[0m \u001b[1m0s\u001b[0m 5ms/step - accuracy: 0.9500 - loss: 0.2354 - val_accuracy: 0.9231 - val_loss: 0.2187\n",
            "Epoch 27/50\n",
            "\u001b[1m12/12\u001b[0m \u001b[32m━━━━━━━━━━━━━━━━━━━━\u001b[0m\u001b[37m\u001b[0m \u001b[1m0s\u001b[0m 4ms/step - accuracy: 0.9458 - loss: 0.2385 - val_accuracy: 0.9231 - val_loss: 0.2150\n",
            "Epoch 28/50\n",
            "\u001b[1m12/12\u001b[0m \u001b[32m━━━━━━━━━━━━━━━━━━━━\u001b[0m\u001b[37m\u001b[0m \u001b[1m0s\u001b[0m 5ms/step - accuracy: 0.9577 - loss: 0.2036 - val_accuracy: 0.9231 - val_loss: 0.2116\n",
            "Epoch 29/50\n",
            "\u001b[1m12/12\u001b[0m \u001b[32m━━━━━━━━━━━━━━━━━━━━\u001b[0m\u001b[37m\u001b[0m \u001b[1m0s\u001b[0m 4ms/step - accuracy: 0.9359 - loss: 0.2309 - val_accuracy: 0.9231 - val_loss: 0.2085\n",
            "Epoch 30/50\n",
            "\u001b[1m12/12\u001b[0m \u001b[32m━━━━━━━━━━━━━━━━━━━━\u001b[0m\u001b[37m\u001b[0m \u001b[1m0s\u001b[0m 5ms/step - accuracy: 0.9627 - loss: 0.2012 - val_accuracy: 0.9231 - val_loss: 0.2053\n",
            "Epoch 31/50\n",
            "\u001b[1m12/12\u001b[0m \u001b[32m━━━━━━━━━━━━━━━━━━━━\u001b[0m\u001b[37m\u001b[0m \u001b[1m0s\u001b[0m 5ms/step - accuracy: 0.9626 - loss: 0.2079 - val_accuracy: 0.9231 - val_loss: 0.2023\n",
            "Epoch 32/50\n",
            "\u001b[1m12/12\u001b[0m \u001b[32m━━━━━━━━━━━━━━━━━━━━\u001b[0m\u001b[37m\u001b[0m \u001b[1m0s\u001b[0m 5ms/step - accuracy: 0.9578 - loss: 0.2098 - val_accuracy: 0.9231 - val_loss: 0.1995\n",
            "Epoch 33/50\n",
            "\u001b[1m12/12\u001b[0m \u001b[32m━━━━━━━━━━━━━━━━━━━━\u001b[0m\u001b[37m\u001b[0m \u001b[1m0s\u001b[0m 6ms/step - accuracy: 0.9453 - loss: 0.2100 - val_accuracy: 0.9341 - val_loss: 0.1969\n",
            "Epoch 34/50\n",
            "\u001b[1m12/12\u001b[0m \u001b[32m━━━━━━━━━━━━━━━━━━━━\u001b[0m\u001b[37m\u001b[0m \u001b[1m0s\u001b[0m 6ms/step - accuracy: 0.9588 - loss: 0.2082 - val_accuracy: 0.9341 - val_loss: 0.1944\n",
            "Epoch 35/50\n",
            "\u001b[1m12/12\u001b[0m \u001b[32m━━━━━━━━━━━━━━━━━━━━\u001b[0m\u001b[37m\u001b[0m \u001b[1m0s\u001b[0m 7ms/step - accuracy: 0.9546 - loss: 0.2053 - val_accuracy: 0.9341 - val_loss: 0.1919\n",
            "Epoch 36/50\n",
            "\u001b[1m12/12\u001b[0m \u001b[32m━━━━━━━━━━━━━━━━━━━━\u001b[0m\u001b[37m\u001b[0m \u001b[1m0s\u001b[0m 5ms/step - accuracy: 0.9469 - loss: 0.1916 - val_accuracy: 0.9341 - val_loss: 0.1897\n",
            "Epoch 37/50\n",
            "\u001b[1m12/12\u001b[0m \u001b[32m━━━━━━━━━━━━━━━━━━━━\u001b[0m\u001b[37m\u001b[0m \u001b[1m0s\u001b[0m 5ms/step - accuracy: 0.9380 - loss: 0.2023 - val_accuracy: 0.9341 - val_loss: 0.1874\n",
            "Epoch 38/50\n",
            "\u001b[1m12/12\u001b[0m \u001b[32m━━━━━━━━━━━━━━━━━━━━\u001b[0m\u001b[37m\u001b[0m \u001b[1m0s\u001b[0m 5ms/step - accuracy: 0.9621 - loss: 0.1811 - val_accuracy: 0.9341 - val_loss: 0.1854\n",
            "Epoch 39/50\n",
            "\u001b[1m12/12\u001b[0m \u001b[32m━━━━━━━━━━━━━━━━━━━━\u001b[0m\u001b[37m\u001b[0m \u001b[1m0s\u001b[0m 5ms/step - accuracy: 0.9595 - loss: 0.1820 - val_accuracy: 0.9341 - val_loss: 0.1835\n",
            "Epoch 40/50\n",
            "\u001b[1m12/12\u001b[0m \u001b[32m━━━━━━━━━━━━━━━━━━━━\u001b[0m\u001b[37m\u001b[0m \u001b[1m0s\u001b[0m 4ms/step - accuracy: 0.9452 - loss: 0.1986 - val_accuracy: 0.9341 - val_loss: 0.1815\n",
            "Epoch 41/50\n",
            "\u001b[1m12/12\u001b[0m \u001b[32m━━━━━━━━━━━━━━━━━━━━\u001b[0m\u001b[37m\u001b[0m \u001b[1m0s\u001b[0m 5ms/step - accuracy: 0.9597 - loss: 0.1794 - val_accuracy: 0.9341 - val_loss: 0.1797\n",
            "Epoch 42/50\n",
            "\u001b[1m12/12\u001b[0m \u001b[32m━━━━━━━━━━━━━━━━━━━━\u001b[0m\u001b[37m\u001b[0m \u001b[1m0s\u001b[0m 5ms/step - accuracy: 0.9571 - loss: 0.1673 - val_accuracy: 0.9341 - val_loss: 0.1780\n",
            "Epoch 43/50\n",
            "\u001b[1m12/12\u001b[0m \u001b[32m━━━━━━━━━━━━━━━━━━━━\u001b[0m\u001b[37m\u001b[0m \u001b[1m0s\u001b[0m 4ms/step - accuracy: 0.9564 - loss: 0.1884 - val_accuracy: 0.9451 - val_loss: 0.1763\n",
            "Epoch 44/50\n",
            "\u001b[1m12/12\u001b[0m \u001b[32m━━━━━━━━━━━━━━━━━━━━\u001b[0m\u001b[37m\u001b[0m \u001b[1m0s\u001b[0m 5ms/step - accuracy: 0.9478 - loss: 0.1845 - val_accuracy: 0.9451 - val_loss: 0.1747\n",
            "Epoch 45/50\n",
            "\u001b[1m12/12\u001b[0m \u001b[32m━━━━━━━━━━━━━━━━━━━━\u001b[0m\u001b[37m\u001b[0m \u001b[1m0s\u001b[0m 6ms/step - accuracy: 0.9511 - loss: 0.1764 - val_accuracy: 0.9451 - val_loss: 0.1732\n",
            "Epoch 46/50\n",
            "\u001b[1m12/12\u001b[0m \u001b[32m━━━━━━━━━━━━━━━━━━━━\u001b[0m\u001b[37m\u001b[0m \u001b[1m0s\u001b[0m 4ms/step - accuracy: 0.9721 - loss: 0.1490 - val_accuracy: 0.9451 - val_loss: 0.1717\n",
            "Epoch 47/50\n",
            "\u001b[1m12/12\u001b[0m \u001b[32m━━━━━━━━━━━━━━━━━━━━\u001b[0m\u001b[37m\u001b[0m \u001b[1m0s\u001b[0m 4ms/step - accuracy: 0.9646 - loss: 0.1682 - val_accuracy: 0.9451 - val_loss: 0.1703\n",
            "Epoch 48/50\n",
            "\u001b[1m12/12\u001b[0m \u001b[32m━━━━━━━━━━━━━━━━━━━━\u001b[0m\u001b[37m\u001b[0m \u001b[1m0s\u001b[0m 5ms/step - accuracy: 0.9548 - loss: 0.1740 - val_accuracy: 0.9451 - val_loss: 0.1688\n",
            "Epoch 49/50\n",
            "\u001b[1m12/12\u001b[0m \u001b[32m━━━━━━━━━━━━━━━━━━━━\u001b[0m\u001b[37m\u001b[0m \u001b[1m0s\u001b[0m 5ms/step - accuracy: 0.9501 - loss: 0.1693 - val_accuracy: 0.9451 - val_loss: 0.1676\n",
            "Epoch 50/50\n",
            "\u001b[1m12/12\u001b[0m \u001b[32m━━━━━━━━━━━━━━━━━━━━\u001b[0m\u001b[37m\u001b[0m \u001b[1m0s\u001b[0m 4ms/step - accuracy: 0.9598 - loss: 0.1621 - val_accuracy: 0.9451 - val_loss: 0.1662\n",
            "\u001b[1m4/4\u001b[0m \u001b[32m━━━━━━━━━━━━━━━━━━━━\u001b[0m\u001b[37m\u001b[0m \u001b[1m0s\u001b[0m 30ms/step - accuracy: 0.9408 - loss: 0.1507\n",
            "Tuned BC Loss: 0.1450\n",
            "Tuned BC Accuracy: 0.9561\n"
          ]
        }
      ]
    },
    {
      "cell_type": "markdown",
      "source": [
        "**Why try smaller LR & more epochs?**  \n",
        "- A smaller learning rate helps the model converge more *gradually*, potentially avoiding overshoot.  \n",
        "- More epochs allow the model to refine its weights further.\n",
        "\n",
        "If the dataset is small and you see overfitting, you may not need too many epochs. Tuning these hyperparameters is **iterative** and often dataset-specific."
      ],
      "metadata": {
        "id": "-A22JGEUjhJM"
      }
    },
    {
      "cell_type": "markdown",
      "source": [
        "## 7. Multi-Class Classification: Fashion MNIST (`keras.datasets`)\n",
        "\n",
        "**Objective**:\n",
        "Classify 28×28 grayscale images into 10 classes of clothing items. A Single-Layer Perceptron will act as a simple baseline."
      ],
      "metadata": {
        "id": "YYQJPWOrjnmf"
      }
    },
    {
      "cell_type": "markdown",
      "source": [
        "### 7.1 Load, Inspect & Explore"
      ],
      "metadata": {
        "id": "ivlBoN-WjrI9"
      }
    },
    {
      "cell_type": "code",
      "source": [
        "from tensorflow.keras.datasets import fashion_mnist\n",
        "\n",
        "(X_train_fm, y_train_fm), (X_test_fm, y_test_fm) = fashion_mnist.load_data()\n",
        "\n",
        "print(\"FM Train shape:\", X_train_fm.shape)   # (60000, 28, 28)\n",
        "print(\"FM Train labels:\", y_train_fm.shape)  # (60000,)\n",
        "print(\"Unique classes:\", np.unique(y_train_fm))"
      ],
      "metadata": {
        "id": "y9n2E1N7jj5s",
        "outputId": "58e9de5a-bfb8-467e-c3d6-6d651174aa5f",
        "colab": {
          "base_uri": "https://localhost:8080/"
        }
      },
      "execution_count": 8,
      "outputs": [
        {
          "output_type": "stream",
          "name": "stdout",
          "text": [
            "Downloading data from https://storage.googleapis.com/tensorflow/tf-keras-datasets/train-labels-idx1-ubyte.gz\n",
            "\u001b[1m29515/29515\u001b[0m \u001b[32m━━━━━━━━━━━━━━━━━━━━\u001b[0m\u001b[37m\u001b[0m \u001b[1m0s\u001b[0m 0us/step\n",
            "Downloading data from https://storage.googleapis.com/tensorflow/tf-keras-datasets/train-images-idx3-ubyte.gz\n",
            "\u001b[1m26421880/26421880\u001b[0m \u001b[32m━━━━━━━━━━━━━━━━━━━━\u001b[0m\u001b[37m\u001b[0m \u001b[1m1s\u001b[0m 0us/step\n",
            "Downloading data from https://storage.googleapis.com/tensorflow/tf-keras-datasets/t10k-labels-idx1-ubyte.gz\n",
            "\u001b[1m5148/5148\u001b[0m \u001b[32m━━━━━━━━━━━━━━━━━━━━\u001b[0m\u001b[37m\u001b[0m \u001b[1m0s\u001b[0m 0us/step\n",
            "Downloading data from https://storage.googleapis.com/tensorflow/tf-keras-datasets/t10k-images-idx3-ubyte.gz\n",
            "\u001b[1m4422102/4422102\u001b[0m \u001b[32m━━━━━━━━━━━━━━━━━━━━\u001b[0m\u001b[37m\u001b[0m \u001b[1m1s\u001b[0m 0us/step\n",
            "FM Train shape: (60000, 28, 28)\n",
            "FM Train labels: (60000,)\n",
            "Unique classes: [0 1 2 3 4 5 6 7 8 9]\n"
          ]
        }
      ]
    },
    {
      "cell_type": "markdown",
      "source": [
        "**Data Exploration**:\n",
        "- Optional: Display some sample images."
      ],
      "metadata": {
        "id": "pzZtiVN4j0jm"
      }
    },
    {
      "cell_type": "code",
      "source": [
        "import matplotlib.pyplot as plt\n",
        "\n",
        "# Display the first 5 images\n",
        "plt.figure(figsize=(10,2))\n",
        "for i in range(5):\n",
        "    plt.subplot(1,5,i+1)\n",
        "    plt.imshow(X_train_fm[i], cmap='gray')\n",
        "    plt.title(f\"Label: {y_train_fm[i]}\")\n",
        "    plt.axis('off')\n",
        "plt.show()"
      ],
      "metadata": {
        "id": "bPUYpViSj2_w"
      },
      "execution_count": null,
      "outputs": []
    },
    {
      "cell_type": "markdown",
      "source": [
        "### 7.2 Preprocess & Build SLP\n",
        "\n",
        "1. **Rescale** from \\([0..255]\\) to \\([0..1]\\).  \n",
        "2. **Flatten** images to 784-dim vectors.  \n",
        "3. **Output layer** = 10 neurons (softmax).\n"
      ],
      "metadata": {
        "id": "G_AXklxxj58f"
      }
    },
    {
      "cell_type": "code",
      "source": [
        "X_train_fm = X_train_fm / 255.0\n",
        "X_test_fm  = X_test_fm / 255.0\n",
        "\n",
        "X_train_fm_flat = X_train_fm.reshape(-1, 28*28)\n",
        "X_test_fm_flat  = X_test_fm.reshape(-1, 28*28)\n",
        "\n",
        "model_fm = keras.Sequential([\n",
        "    layers.Dense(10, activation='softmax', input_shape=(784,))\n",
        "])\n",
        "model_fm.compile(\n",
        "    optimizer='adam',\n",
        "    loss='sparse_categorical_crossentropy',\n",
        "    metrics=['accuracy']\n",
        ")\n",
        "\n",
        "model_fm.summary()"
      ],
      "metadata": {
        "id": "6Y66qKeZj8Jk"
      },
      "execution_count": null,
      "outputs": []
    },
    {
      "cell_type": "markdown",
      "source": [
        "### 7.3 Train & Evaluate\n"
      ],
      "metadata": {
        "id": "LsxXWZNLkArN"
      }
    },
    {
      "cell_type": "code",
      "source": [
        "history_fm = model_fm.fit(\n",
        "    X_train_fm_flat, y_train_fm,\n",
        "    validation_split=0.2,\n",
        "    epochs=5,\n",
        "    batch_size=32,\n",
        "    verbose=1\n",
        ")\n",
        "\n",
        "test_loss_fm, test_acc_fm = model_fm.evaluate(X_test_fm_flat, y_test_fm)\n",
        "print(f\"Fashion MNIST - Test Loss: {test_loss_fm:.4f}\")\n",
        "print(f\"Fashion MNIST - Test Accuracy: {test_acc_fm:.4f}\")"
      ],
      "metadata": {
        "id": "zFzmocjUkCtW"
      },
      "execution_count": null,
      "outputs": []
    },
    {
      "cell_type": "markdown",
      "source": [
        "#### Plot Curves"
      ],
      "metadata": {
        "id": "0YAMt03bkGZi"
      }
    },
    {
      "cell_type": "code",
      "source": [
        "plt.figure(figsize=(12,4))\n",
        "plt.subplot(1,2,1)\n",
        "plt.plot(history_fm.history['loss'], label='Train Loss')\n",
        "plt.plot(history_fm.history['val_loss'], label='Val Loss')\n",
        "plt.title(\"FM - Loss\")\n",
        "plt.xlabel(\"Epoch\")\n",
        "plt.ylabel(\"Loss\")\n",
        "plt.legend()\n",
        "\n",
        "plt.subplot(1,2,2)\n",
        "plt.plot(history_fm.history['accuracy'], label='Train Acc')\n",
        "plt.plot(history_fm.history['val_accuracy'], label='Val Acc')\n",
        "plt.title(\"FM - Accuracy\")\n",
        "plt.xlabel(\"Epoch\")\n",
        "plt.ylabel(\"Accuracy\")\n",
        "plt.legend()\n",
        "\n",
        "plt.show()"
      ],
      "metadata": {
        "id": "AmHH7qJikIIb"
      },
      "execution_count": null,
      "outputs": []
    },
    {
      "cell_type": "markdown",
      "source": [
        "#### Confusion Matrix & Classification Report"
      ],
      "metadata": {
        "id": "4U53qRgckLZJ"
      }
    },
    {
      "cell_type": "code",
      "source": [
        "from sklearn.metrics import confusion_matrix, classification_report\n",
        "\n",
        "y_pred_fm_probs = model_fm.predict(X_test_fm_flat)\n",
        "y_pred_fm = np.argmax(y_pred_fm_probs, axis=1)\n",
        "\n",
        "cm_fm = confusion_matrix(y_test_fm, y_pred_fm)\n",
        "print(\"Fashion MNIST Confusion Matrix:\\n\", cm_fm)\n",
        "print(\"Fashion MNIST Classification Report:\\n\",\n",
        "      classification_report(y_test_fm, y_pred_fm))"
      ],
      "metadata": {
        "id": "D6PK6KZDkNp8"
      },
      "execution_count": null,
      "outputs": []
    },
    {
      "cell_type": "markdown",
      "source": [
        "### 7.1 Visualizing Weights in the SLP\n",
        "\n",
        "A single-layer perceptron with 10 outputs has a **weight vector** of length 784 for each class. We can reshape each 784-length weight vector into a 28×28 grid to see what “pattern” the model has learned for each class."
      ],
      "metadata": {
        "id": "2ItPEDGrkRFb"
      }
    },
    {
      "cell_type": "code",
      "source": [
        "weights_fm = model_fm.get_weights()[0]  # shape: (784, 10)\n",
        "biases_fm = model_fm.get_weights()[1]   # shape: (10,)\n",
        "\n",
        "plt.figure(figsize=(12,6))\n",
        "for i in range(10):\n",
        "    # Extract the weight vector for class i\n",
        "    w_i = weights_fm[:, i]\n",
        "    # Reshape to 28x28\n",
        "    w_i_2d = w_i.reshape(28, 28)\n",
        "    plt.subplot(2,5,i+1)\n",
        "    plt.imshow(w_i_2d, cmap='jet')\n",
        "    plt.title(f\"Class {i}\")\n",
        "    plt.colorbar()\n",
        "    plt.axis('off')\n",
        "plt.tight_layout()\n",
        "plt.show()"
      ],
      "metadata": {
        "id": "RtxLRRrFkTx6"
      },
      "execution_count": null,
      "outputs": []
    },
    {
      "cell_type": "markdown",
      "source": [
        "**Why do this?**  \n",
        "- It’s fascinating to see if the model highlights certain regions of the image for a given class, even though it’s just a simple linear map."
      ],
      "metadata": {
        "id": "f21MWW3gkXdd"
      }
    },
    {
      "cell_type": "markdown",
      "source": [
        "### 7.2 More Detailed Error Analysis\n",
        "\n",
        "We can see which items get misclassified frequently. For instance:"
      ],
      "metadata": {
        "id": "sqiPLwgSkao0"
      }
    },
    {
      "cell_type": "code",
      "source": [
        "incorrect_idx = np.where(y_pred_fm != y_test_fm)[0]\n",
        "print(f\"Number of misclassified samples: {len(incorrect_idx)}\")\n",
        "\n",
        "# Show some misclassified images\n",
        "plt.figure(figsize=(10,4))\n",
        "for i, idx in enumerate(incorrect_idx[:5]):\n",
        "    plt.subplot(1,5,i+1)\n",
        "    plt.imshow(X_test_fm[idx], cmap='gray')\n",
        "    plt.title(f\"True: {y_test_fm[idx]}, Pred: {y_pred_fm[idx]}\")\n",
        "    plt.axis('off')\n",
        "plt.show()"
      ],
      "metadata": {
        "id": "FHh7J1_ikdCN"
      },
      "execution_count": null,
      "outputs": []
    },
    {
      "cell_type": "markdown",
      "source": [
        "**Why do this?**  \n",
        "- Helps us understand which classes are confusing. For instance, the model might confuse “shirt” vs. “t-shirt” or “pullover” if they visually appear similar."
      ],
      "metadata": {
        "id": "mnnvalXYkf9o"
      }
    },
    {
      "cell_type": "markdown",
      "source": [
        "## 8. Saving & Loading Models (End-to-End Workflow)\n",
        "\n",
        "After training, it’s crucial to **save** the model so you don’t have to retrain every time, or so you can **deploy** or **share** it."
      ],
      "metadata": {
        "id": "GQAh9CUikit4"
      }
    },
    {
      "cell_type": "code",
      "source": [
        "# Save the Fashion MNIST model\n",
        "model_fm.save(\"slp_fashion_mnist.h5\")\n",
        "\n",
        "# Later or in another script, load it:\n",
        "loaded_model_fm = tf.keras.models.load_model(\"slp_fashion_mnist.h5\")"
      ],
      "metadata": {
        "id": "_kROjmhokl6Y"
      },
      "execution_count": null,
      "outputs": []
    },
    {
      "cell_type": "markdown",
      "source": [
        "You can then evaluate `loaded_model_fm` on test data again to confirm it’s the same:"
      ],
      "metadata": {
        "id": "uZNFHCu_kp9_"
      }
    },
    {
      "cell_type": "code",
      "source": [
        "loaded_loss, loaded_acc = loaded_model_fm.evaluate(X_test_fm_flat, y_test_fm)\n",
        "print(f\"Loaded Model - Test Loss: {loaded_loss:.4f}, Test Acc: {loaded_acc:.4f}\")"
      ],
      "metadata": {
        "id": "Hgs1QmbBkovD"
      },
      "execution_count": null,
      "outputs": []
    },
    {
      "cell_type": "markdown",
      "source": [
        "**Why do this?**  \n",
        "- **Practical**: In real projects, you rarely keep your model in memory. You train it once and save it for inference later or for future fine-tuning.  \n",
        "- **Collaboration**: Team members can use your saved model for inference or production deployment."
      ],
      "metadata": {
        "id": "ckniJ3oQkuiC"
      }
    },
    {
      "cell_type": "markdown",
      "source": [
        "## 9. Wrap-up & Further Study\n",
        "\n",
        "### Summary\n",
        "- **Data Exploration** helps detect issues (imbalance, anomalies) and informs choices (scaling, weighting).\n",
        "- **SLPs** are easy to understand but limited for complex tasks.\n",
        "- **Hyperparameter tuning** (learning rates, epochs) can significantly affect performance.\n",
        "- **Visualizing weights** for image tasks can provide insights.\n",
        "- **Detailed error analysis** (misclassified examples) reveals model weaknesses.\n",
        "- **Model saving/loading** is crucial for real-world workflow.\n",
        "\n",
        "### Next Steps\n",
        "1. **Add hidden layers** to see how a **multilayer perceptron (MLP)** outperforms an SLP on Fashion MNIST.  \n",
        "2. **Use callbacks** like `EarlyStopping` or `ReduceLROnPlateau` for more advanced training control.  \n",
        "3. **Experiment with other optimizers** (e.g., `SGD`, `RMSprop`), batch sizes, or epoch counts.  \n",
        "4. **Try new datasets** (MNIST, CIFAR-10, or custom data) to expand your skill set.  \n",
        "5. **Investigate more advanced error analysis** (e.g., Grad-CAM for CNN-based tasks, or SHAP for interpretability)."
      ],
      "metadata": {
        "id": "iuiTCGtpldW8"
      }
    },
    {
      "cell_type": "code",
      "source": [],
      "metadata": {
        "id": "JB_wJgzglcbb"
      },
      "execution_count": null,
      "outputs": []
    }
  ]
}