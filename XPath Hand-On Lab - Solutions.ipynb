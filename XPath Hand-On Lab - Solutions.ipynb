{
  "nbformat": 4,
  "nbformat_minor": 0,
  "metadata": {
    "colab": {
      "provenance": [],
      "include_colab_link": true
    },
    "kernelspec": {
      "display_name": "Python 3",
      "language": "python",
      "name": "python3"
    }
  },
  "cells": [
    {
      "cell_type": "markdown",
      "metadata": {
        "id": "view-in-github",
        "colab_type": "text"
      },
      "source": [
        "<a href=\"https://colab.research.google.com/github/C0FF33JH/C0FF33JH/blob/main/XPath%20Hand-On%20Lab%20-%20Solutions.ipynb\" target=\"_parent\"><img src=\"https://colab.research.google.com/assets/colab-badge.svg\" alt=\"Open In Colab\"/></a>"
      ]
    },
    {
      "metadata": {
        "id": "vM6ta952S2z2"
      },
      "cell_type": "markdown",
      "source": [
        "# 1 Introduction to XPath\n",
        "\n",
        "XPath (XML Path Language) is a query language for selecting nodes from an XML document. It provides a way to navigate through elements and attributes in XML."
      ]
    },
    {
      "cell_type": "markdown",
      "source": [
        "# 2 Setting Up XPaht Environment\n",
        "\n",
        "First, we need to install the `lxml` library, which provides a powerful API for XML and HTML parsing."
      ],
      "metadata": {
        "id": "0LGk4rAcB7YK"
      }
    },
    {
      "cell_type": "code",
      "source": [
        "# Install lxml library\n",
        "!pip install lxml"
      ],
      "metadata": {
        "id": "zgXgWsKqFlWM",
        "outputId": "6df1327b-2a18-4a0b-97a5-a4d2e99322ed",
        "colab": {
          "base_uri": "https://localhost:8080/"
        }
      },
      "execution_count": 1,
      "outputs": [
        {
          "output_type": "stream",
          "name": "stdout",
          "text": [
            "Requirement already satisfied: lxml in /usr/local/lib/python3.10/dist-packages (5.3.0)\n"
          ]
        }
      ]
    },
    {
      "cell_type": "markdown",
      "source": [
        "We also need to import the display tools from IPython."
      ],
      "metadata": {
        "id": "nxFFaZ5KKWR1"
      }
    },
    {
      "cell_type": "code",
      "source": [
        "# Import display tools\n",
        "from IPython.display import display, HTML, Markdown"
      ],
      "metadata": {
        "id": "2KLaaodNKXZd"
      },
      "execution_count": 2,
      "outputs": []
    },
    {
      "cell_type": "markdown",
      "source": [
        "# 3. Sample XML Data\n",
        "\n",
        "Let's start with a sample XML document. We will use this XML data for our XPath queries."
      ],
      "metadata": {
        "id": "f8wxprLvCP5E"
      }
    },
    {
      "cell_type": "code",
      "source": [
        "xml_data = \"\"\"\n",
        "<library>\n",
        "    <book id=\"1\">\n",
        "        <title>Python Programming</title>\n",
        "        <author>John Doe</author>\n",
        "        <year>2020</year>\n",
        "        <price>29.99</price>\n",
        "    </book>\n",
        "    <book id=\"2\">\n",
        "        <title>Learning XPath</title>\n",
        "        <author>Jane Smith</author>\n",
        "        <year>2019</year>\n",
        "        <price>19.99</price>\n",
        "    </book>\n",
        "    <book id=\"3\">\n",
        "        <title>Data Science Handbook</title>\n",
        "        <author>Emily Davis</author>\n",
        "        <year>2018</year>\n",
        "        <price>39.99</price>\n",
        "    </book>\n",
        "</library>\n",
        "\"\"\""
      ],
      "metadata": {
        "id": "J8U76XcPCQTe"
      },
      "execution_count": 3,
      "outputs": []
    },
    {
      "cell_type": "markdown",
      "source": [
        "# 4. Parsing XML Data\n",
        "\n",
        "We will use the `lxml` library to parse the XML data."
      ],
      "metadata": {
        "id": "ncr8F5pRCbmb"
      }
    },
    {
      "cell_type": "code",
      "source": [
        "from lxml import etree\n",
        "\n",
        "# Parse the XML data\n",
        "root = etree.fromstring(xml_data)\n",
        "\n",
        "# Display the root tag to verify parsing\n",
        "root.tag"
      ],
      "metadata": {
        "id": "f2q4bBmFNQuA",
        "outputId": "36381af6-1da1-4166-dabb-d4fca3258816",
        "colab": {
          "base_uri": "https://localhost:8080/",
          "height": 35
        }
      },
      "execution_count": 4,
      "outputs": [
        {
          "output_type": "execute_result",
          "data": {
            "text/plain": [
              "'library'"
            ],
            "application/vnd.google.colaboratory.intrinsic+json": {
              "type": "string"
            }
          },
          "metadata": {},
          "execution_count": 4
        }
      ]
    },
    {
      "cell_type": "markdown",
      "source": [
        "# 5. Utility Function to Display XML Nodes\n",
        "\n",
        "Define a utility function to simplify displaying XML content."
      ],
      "metadata": {
        "id": "zi7YksTPGlBH"
      }
    },
    {
      "cell_type": "code",
      "source": [
        "# Utility function to display XML content without empty lines\n",
        "def display_xml(nodes):\n",
        "    for node in nodes:\n",
        "        xml_str = etree.tostring(node, pretty_print=True, encoding='unicode').strip()\n",
        "        display(Markdown(f'```xml\\n{xml_str}\\n```'))"
      ],
      "metadata": {
        "id": "itVBhf6uGm3f"
      },
      "execution_count": 5,
      "outputs": []
    },
    {
      "cell_type": "markdown",
      "source": [
        "# 6. Basic XPath Queries\n",
        "\n",
        "Let's start with some basic XPath queries to extract information from the XML document."
      ],
      "metadata": {
        "id": "ZK39BLCHmVUa"
      }
    },
    {
      "cell_type": "markdown",
      "source": [
        "**a. Extract all book titles:**"
      ],
      "metadata": {
        "id": "qXVCAX1xmz2q"
      }
    },
    {
      "cell_type": "code",
      "source": [
        "# Extract all book title nodes\n",
        "title_nodes = root.xpath('//book/title')\n",
        "# Display the content of title nodes\n",
        "display_xml(title_nodes)"
      ],
      "metadata": {
        "id": "BSsXBUfhaJp9",
        "outputId": "277d8420-989d-44a4-9b51-7ebf8e8d18d7",
        "colab": {
          "base_uri": "https://localhost:8080/",
          "height": 69
        }
      },
      "execution_count": 6,
      "outputs": [
        {
          "output_type": "display_data",
          "data": {
            "text/plain": [
              "<IPython.core.display.Markdown object>"
            ],
            "text/markdown": "```xml\n<title>Python Programming</title>\n```"
          },
          "metadata": {}
        },
        {
          "output_type": "display_data",
          "data": {
            "text/plain": [
              "<IPython.core.display.Markdown object>"
            ],
            "text/markdown": "```xml\n<title>Learning XPath</title>\n```"
          },
          "metadata": {}
        },
        {
          "output_type": "display_data",
          "data": {
            "text/plain": [
              "<IPython.core.display.Markdown object>"
            ],
            "text/markdown": "```xml\n<title>Data Science Handbook</title>\n```"
          },
          "metadata": {}
        }
      ]
    },
    {
      "cell_type": "markdown",
      "source": [
        "**b. Extract the author of the first book:**"
      ],
      "metadata": {
        "id": "MYRMT54Xn1EB"
      }
    },
    {
      "cell_type": "code",
      "source": [
        "# Extract the author node of the first book\n",
        "author_first_book = root.xpath('//book[1]/author')\n",
        "# Display the content of the author node\n",
        "display_xml(author_first_book)"
      ],
      "metadata": {
        "id": "W0agPtBpNpc3",
        "outputId": "2c0822ec-537b-4eb0-8e38-caf6503c1a59",
        "colab": {
          "base_uri": "https://localhost:8080/",
          "height": 34
        }
      },
      "execution_count": 7,
      "outputs": [
        {
          "output_type": "display_data",
          "data": {
            "text/plain": [
              "<IPython.core.display.Markdown object>"
            ],
            "text/markdown": "```xml\n<author>John Doe</author>\n```"
          },
          "metadata": {}
        }
      ]
    },
    {
      "cell_type": "markdown",
      "source": [
        "**c. Extract all prices:**"
      ],
      "metadata": {
        "id": "G1mRdeRFoXaY"
      }
    },
    {
      "cell_type": "code",
      "source": [
        "# Extract all price nodes\n",
        "price_nodes = root.xpath('//book/price')\n",
        "# Display the content of price nodes\n",
        "display_xml(price_nodes)"
      ],
      "metadata": {
        "id": "M7lCulsSjqun",
        "outputId": "c4c43164-cad3-4287-c5e7-a38151fc4615",
        "colab": {
          "base_uri": "https://localhost:8080/",
          "height": 69
        }
      },
      "execution_count": 8,
      "outputs": [
        {
          "output_type": "display_data",
          "data": {
            "text/plain": [
              "<IPython.core.display.Markdown object>"
            ],
            "text/markdown": "```xml\n<price>29.99</price>\n```"
          },
          "metadata": {}
        },
        {
          "output_type": "display_data",
          "data": {
            "text/plain": [
              "<IPython.core.display.Markdown object>"
            ],
            "text/markdown": "```xml\n<price>19.99</price>\n```"
          },
          "metadata": {}
        },
        {
          "output_type": "display_data",
          "data": {
            "text/plain": [
              "<IPython.core.display.Markdown object>"
            ],
            "text/markdown": "```xml\n<price>39.99</price>\n```"
          },
          "metadata": {}
        }
      ]
    },
    {
      "cell_type": "markdown",
      "source": [
        "# 7. Advanced XPath Queries\n",
        "\n",
        "Now, let's move on to some advanced queries."
      ],
      "metadata": {
        "id": "O6kaX0jfHxXa"
      }
    },
    {
      "cell_type": "markdown",
      "source": [
        "**a. Extract books published after 2018:**"
      ],
      "metadata": {
        "id": "idHUEHFHowWX"
      }
    },
    {
      "cell_type": "code",
      "source": [
        "# Extract book nodes published after 2018\n",
        "books_after_2018 = root.xpath('//book[year > 2018]')\n",
        "# Display the content of the book nodes\n",
        "display_xml(books_after_2018)"
      ],
      "metadata": {
        "id": "5nCpwNFMc5g8",
        "outputId": "d8486808-36fd-4375-f7ca-a4dc4e1417d5",
        "colab": {
          "base_uri": "https://localhost:8080/",
          "height": 225
        }
      },
      "execution_count": 9,
      "outputs": [
        {
          "output_type": "display_data",
          "data": {
            "text/plain": [
              "<IPython.core.display.Markdown object>"
            ],
            "text/markdown": "```xml\n<book id=\"1\">\n        <title>Python Programming</title>\n        <author>John Doe</author>\n        <year>2020</year>\n        <price>29.99</price>\n    </book>\n```"
          },
          "metadata": {}
        },
        {
          "output_type": "display_data",
          "data": {
            "text/plain": [
              "<IPython.core.display.Markdown object>"
            ],
            "text/markdown": "```xml\n<book id=\"2\">\n        <title>Learning XPath</title>\n        <author>Jane Smith</author>\n        <year>2019</year>\n        <price>19.99</price>\n    </book>\n```"
          },
          "metadata": {}
        }
      ]
    },
    {
      "cell_type": "markdown",
      "source": [
        "**b. Extract the title and price of books that cost more than $20:**"
      ],
      "metadata": {
        "id": "xUYJCDrXIKBI"
      }
    },
    {
      "cell_type": "code",
      "source": [
        "# Extract book nodes with price greater than $20\n",
        "expensive_books = root.xpath('//book[price > 20]')\n",
        "# Display the content of the book nodes\n",
        "display_xml(expensive_books)"
      ],
      "metadata": {
        "id": "RbUMVaNzdOvx",
        "outputId": "a494405a-df4b-4444-9ade-4d27a8d3e277",
        "colab": {
          "base_uri": "https://localhost:8080/",
          "height": 225
        }
      },
      "execution_count": 10,
      "outputs": [
        {
          "output_type": "display_data",
          "data": {
            "text/plain": [
              "<IPython.core.display.Markdown object>"
            ],
            "text/markdown": "```xml\n<book id=\"1\">\n        <title>Python Programming</title>\n        <author>John Doe</author>\n        <year>2020</year>\n        <price>29.99</price>\n    </book>\n```"
          },
          "metadata": {}
        },
        {
          "output_type": "display_data",
          "data": {
            "text/plain": [
              "<IPython.core.display.Markdown object>"
            ],
            "text/markdown": "```xml\n<book id=\"3\">\n        <title>Data Science Handbook</title>\n        <author>Emily Davis</author>\n        <year>2018</year>\n        <price>39.99</price>\n    </book>\n```"
          },
          "metadata": {}
        }
      ]
    },
    {
      "cell_type": "markdown",
      "source": [
        "**c. Extract book details with a specific attribute:**"
      ],
      "metadata": {
        "id": "YCNewqotISMZ"
      }
    },
    {
      "cell_type": "code",
      "source": [
        "# Extract book node with id=2\n",
        "book_id_2 = root.xpath('//book[@id=\"2\"]')\n",
        "# Display the content of the book node\n",
        "display_xml(book_id_2)"
      ],
      "metadata": {
        "id": "oeYt0rqzpKnr",
        "outputId": "85371d8e-8c08-4a71-a12a-31301ac74aef",
        "colab": {
          "base_uri": "https://localhost:8080/",
          "height": 121
        }
      },
      "execution_count": 11,
      "outputs": [
        {
          "output_type": "display_data",
          "data": {
            "text/plain": [
              "<IPython.core.display.Markdown object>"
            ],
            "text/markdown": "```xml\n<book id=\"2\">\n        <title>Learning XPath</title>\n        <author>Jane Smith</author>\n        <year>2019</year>\n        <price>19.99</price>\n    </book>\n```"
          },
          "metadata": {}
        }
      ]
    },
    {
      "cell_type": "markdown",
      "source": [
        "# 8. Exploring Lists and Parent Navigation\n",
        "\n",
        "XPath also allows navigating lists and moving to the parent level using `..`.\n"
      ],
      "metadata": {
        "id": "OtseGmERr9jQ"
      }
    },
    {
      "cell_type": "markdown",
      "source": [
        "**a. Extract titles of all books (list example):**\n"
      ],
      "metadata": {
        "id": "GPj9LFGrsyyE"
      }
    },
    {
      "cell_type": "code",
      "source": [
        "# Extract all book title nodes\n",
        "book_titles_nodes = root.xpath('//book/title')\n",
        "# Display the content of title nodes\n",
        "display_xml(book_titles_nodes)"
      ],
      "metadata": {
        "id": "TWRu81nReEw2",
        "outputId": "65e93c44-53a7-461d-d87d-d23557c92bca",
        "colab": {
          "base_uri": "https://localhost:8080/",
          "height": 69
        }
      },
      "execution_count": 12,
      "outputs": [
        {
          "output_type": "display_data",
          "data": {
            "text/plain": [
              "<IPython.core.display.Markdown object>"
            ],
            "text/markdown": "```xml\n<title>Python Programming</title>\n```"
          },
          "metadata": {}
        },
        {
          "output_type": "display_data",
          "data": {
            "text/plain": [
              "<IPython.core.display.Markdown object>"
            ],
            "text/markdown": "```xml\n<title>Learning XPath</title>\n```"
          },
          "metadata": {}
        },
        {
          "output_type": "display_data",
          "data": {
            "text/plain": [
              "<IPython.core.display.Markdown object>"
            ],
            "text/markdown": "```xml\n<title>Data Science Handbook</title>\n```"
          },
          "metadata": {}
        }
      ]
    },
    {
      "cell_type": "markdown",
      "source": [
        "**b. Navigate to the parent and back down to another child:**"
      ],
      "metadata": {
        "id": "wncBlxCctOPr"
      }
    },
    {
      "cell_type": "code",
      "source": [
        "# Navigate to the parent of the first book's title and get the price\n",
        "parent_price_node = root.xpath('//book/title[text()=\"Python Programming\"]/../price')\n",
        "# Display the content of the price node\n",
        "display_xml(parent_price_node)"
      ],
      "metadata": {
        "id": "AZXxnpqEfwc-",
        "outputId": "fa084e15-f9cd-4262-e225-0247f982f4be",
        "colab": {
          "base_uri": "https://localhost:8080/",
          "height": 34
        }
      },
      "execution_count": 13,
      "outputs": [
        {
          "output_type": "display_data",
          "data": {
            "text/plain": [
              "<IPython.core.display.Markdown object>"
            ],
            "text/markdown": "```xml\n<price>29.99</price>\n```"
          },
          "metadata": {}
        }
      ]
    },
    {
      "cell_type": "markdown",
      "source": [
        "**c. Use `..` to navigate from an element to its parent and then select another sibling:**"
      ],
      "metadata": {
        "id": "b8zsF3bWtb8H"
      }
    },
    {
      "cell_type": "code",
      "source": [
        "# Use '..' to navigate from author to title\n",
        "titles_from_authors_nodes = root.xpath('//book/author[text()=\"Jane Smith\"]/../title')\n",
        "# Display the content of title nodes\n",
        "display_xml(titles_from_authors_nodes)"
      ],
      "metadata": {
        "id": "wAPyCIANhTKa",
        "outputId": "4a4bf535-eee5-4e1a-d94b-39448493f5c0",
        "colab": {
          "base_uri": "https://localhost:8080/",
          "height": 34
        }
      },
      "execution_count": 17,
      "outputs": [
        {
          "output_type": "display_data",
          "data": {
            "text/plain": [
              "<IPython.core.display.Markdown object>"
            ],
            "text/markdown": "```xml\n<title>Learning XPath</title>\n```"
          },
          "metadata": {}
        }
      ]
    },
    {
      "cell_type": "code",
      "source": [],
      "metadata": {
        "id": "a-mmPnyvczir",
        "outputId": "c793acc1-da3e-4035-8f8b-379c8ae47327",
        "colab": {
          "base_uri": "https://localhost:8080/",
          "height": 305
        }
      },
      "execution_count": 18,
      "outputs": [
        {
          "output_type": "error",
          "ename": "XPathEvalError",
          "evalue": "Invalid type",
          "traceback": [
            "\u001b[0;31m---------------------------------------------------------------------------\u001b[0m",
            "\u001b[0;31mXPathEvalError\u001b[0m                            Traceback (most recent call last)",
            "\u001b[0;32m<ipython-input-18-782a460cce93>\u001b[0m in \u001b[0;36m<cell line: 2>\u001b[0;34m()\u001b[0m\n\u001b[1;32m      1\u001b[0m \u001b[0;31m# Use '..' to navigate from author to title\u001b[0m\u001b[0;34m\u001b[0m\u001b[0;34m\u001b[0m\u001b[0m\n\u001b[0;32m----> 2\u001b[0;31m \u001b[0mtitles_from_authors_nodes\u001b[0m \u001b[0;34m=\u001b[0m \u001b[0mroot\u001b[0m\u001b[0;34m.\u001b[0m\u001b[0mxpath\u001b[0m\u001b[0;34m(\u001b[0m\u001b[0;34m'//book/author=\"Jane Smith\"/title'\u001b[0m\u001b[0;34m)\u001b[0m\u001b[0;34m\u001b[0m\u001b[0;34m\u001b[0m\u001b[0m\n\u001b[0m\u001b[1;32m      3\u001b[0m \u001b[0;31m# Display the content of title nodes\u001b[0m\u001b[0;34m\u001b[0m\u001b[0;34m\u001b[0m\u001b[0m\n\u001b[1;32m      4\u001b[0m \u001b[0mdisplay_xml\u001b[0m\u001b[0;34m(\u001b[0m\u001b[0mtitles_from_authors_nodes\u001b[0m\u001b[0;34m)\u001b[0m\u001b[0;34m\u001b[0m\u001b[0;34m\u001b[0m\u001b[0m\n",
            "\u001b[0;32msrc/lxml/etree.pyx\u001b[0m in \u001b[0;36mlxml.etree._Element.xpath\u001b[0;34m()\u001b[0m\n",
            "\u001b[0;32msrc/lxml/xpath.pxi\u001b[0m in \u001b[0;36mlxml.etree.XPathElementEvaluator.__call__\u001b[0;34m()\u001b[0m\n",
            "\u001b[0;32msrc/lxml/xpath.pxi\u001b[0m in \u001b[0;36mlxml.etree._XPathEvaluatorBase._handle_result\u001b[0;34m()\u001b[0m\n",
            "\u001b[0;31mXPathEvalError\u001b[0m: Invalid type"
          ]
        }
      ]
    },
    {
      "cell_type": "markdown",
      "source": [
        "# 9. Using `//` and Wildcard `*` in XPath"
      ],
      "metadata": {
        "id": "tCSPpGWnItwW"
      }
    },
    {
      "cell_type": "markdown",
      "source": [
        "**a. Using `//` to select nodes regardless of their position in the document:**"
      ],
      "metadata": {
        "id": "TouNO91iIw9S"
      }
    },
    {
      "cell_type": "code",
      "source": [
        "# Extract all author nodes regardless of their position in the document\n",
        "all_authors_nodes = root.xpath('//author')\n",
        "# Display the content of author nodes\n",
        "display_xml(all_authors_nodes)"
      ],
      "metadata": {
        "id": "Nlhzy-5iuKOb",
        "outputId": "4bc88518-3869-47d8-9be7-21ac532b1da5",
        "colab": {
          "base_uri": "https://localhost:8080/",
          "height": 69
        }
      },
      "execution_count": 19,
      "outputs": [
        {
          "output_type": "display_data",
          "data": {
            "text/plain": [
              "<IPython.core.display.Markdown object>"
            ],
            "text/markdown": "```xml\n<author>John Doe</author>\n```"
          },
          "metadata": {}
        },
        {
          "output_type": "display_data",
          "data": {
            "text/plain": [
              "<IPython.core.display.Markdown object>"
            ],
            "text/markdown": "```xml\n<author>Jane Smith</author>\n```"
          },
          "metadata": {}
        },
        {
          "output_type": "display_data",
          "data": {
            "text/plain": [
              "<IPython.core.display.Markdown object>"
            ],
            "text/markdown": "```xml\n<author>Emily Davis</author>\n```"
          },
          "metadata": {}
        }
      ]
    },
    {
      "cell_type": "markdown",
      "source": [
        "**b. Using the wildcard `*` to select any element:**"
      ],
      "metadata": {
        "id": "JfQzY-0_txxA"
      }
    },
    {
      "cell_type": "code",
      "source": [
        "# Extract all child nodes of the first book\n",
        "first_book_children = root.xpath('//book[1]/*')\n",
        "# Display the content of child nodes\n",
        "display_xml(first_book_children)"
      ],
      "metadata": {
        "id": "REjidHpai09t",
        "outputId": "aeffc975-1f59-4819-dcf9-da90461af046",
        "colab": {
          "base_uri": "https://localhost:8080/",
          "height": 86
        }
      },
      "execution_count": 21,
      "outputs": [
        {
          "output_type": "display_data",
          "data": {
            "text/plain": [
              "<IPython.core.display.Markdown object>"
            ],
            "text/markdown": "```xml\n<title>Python Programming</title>\n```"
          },
          "metadata": {}
        },
        {
          "output_type": "display_data",
          "data": {
            "text/plain": [
              "<IPython.core.display.Markdown object>"
            ],
            "text/markdown": "```xml\n<author>John Doe</author>\n```"
          },
          "metadata": {}
        },
        {
          "output_type": "display_data",
          "data": {
            "text/plain": [
              "<IPython.core.display.Markdown object>"
            ],
            "text/markdown": "```xml\n<year>2020</year>\n```"
          },
          "metadata": {}
        },
        {
          "output_type": "display_data",
          "data": {
            "text/plain": [
              "<IPython.core.display.Markdown object>"
            ],
            "text/markdown": "```xml\n<price>29.99</price>\n```"
          },
          "metadata": {}
        }
      ]
    },
    {
      "cell_type": "markdown",
      "source": [
        "**c. Combine `//` and `*` to select all elements:**"
      ],
      "metadata": {
        "id": "0mRGZCvCI9bD"
      }
    },
    {
      "cell_type": "code",
      "source": [
        "# Extract all elements in the document\n",
        "all_elements = root.xpath('//*')\n",
        "# Display the content of all elements\n",
        "display_xml(all_elements)"
      ],
      "metadata": {
        "id": "3z_IB5e7uHtx",
        "outputId": "57d08b75-b2b4-41a8-9814-eb93f8e311f3",
        "colab": {
          "base_uri": "https://localhost:8080/",
          "height": 885
        }
      },
      "execution_count": 23,
      "outputs": [
        {
          "output_type": "display_data",
          "data": {
            "text/plain": [
              "<IPython.core.display.Markdown object>"
            ],
            "text/markdown": "```xml\n<library>\n    <book id=\"1\">\n        <title>Python Programming</title>\n        <author>John Doe</author>\n        <year>2020</year>\n        <price>29.99</price>\n    </book>\n    <book id=\"2\">\n        <title>Learning XPath</title>\n        <author>Jane Smith</author>\n        <year>2019</year>\n        <price>19.99</price>\n    </book>\n    <book id=\"3\">\n        <title>Data Science Handbook</title>\n        <author>Emily Davis</author>\n        <year>2018</year>\n        <price>39.99</price>\n    </book>\n</library>\n```"
          },
          "metadata": {}
        },
        {
          "output_type": "display_data",
          "data": {
            "text/plain": [
              "<IPython.core.display.Markdown object>"
            ],
            "text/markdown": "```xml\n<book id=\"1\">\n        <title>Python Programming</title>\n        <author>John Doe</author>\n        <year>2020</year>\n        <price>29.99</price>\n    </book>\n```"
          },
          "metadata": {}
        },
        {
          "output_type": "display_data",
          "data": {
            "text/plain": [
              "<IPython.core.display.Markdown object>"
            ],
            "text/markdown": "```xml\n<title>Python Programming</title>\n```"
          },
          "metadata": {}
        },
        {
          "output_type": "display_data",
          "data": {
            "text/plain": [
              "<IPython.core.display.Markdown object>"
            ],
            "text/markdown": "```xml\n<author>John Doe</author>\n```"
          },
          "metadata": {}
        },
        {
          "output_type": "display_data",
          "data": {
            "text/plain": [
              "<IPython.core.display.Markdown object>"
            ],
            "text/markdown": "```xml\n<year>2020</year>\n```"
          },
          "metadata": {}
        },
        {
          "output_type": "display_data",
          "data": {
            "text/plain": [
              "<IPython.core.display.Markdown object>"
            ],
            "text/markdown": "```xml\n<price>29.99</price>\n```"
          },
          "metadata": {}
        },
        {
          "output_type": "display_data",
          "data": {
            "text/plain": [
              "<IPython.core.display.Markdown object>"
            ],
            "text/markdown": "```xml\n<book id=\"2\">\n        <title>Learning XPath</title>\n        <author>Jane Smith</author>\n        <year>2019</year>\n        <price>19.99</price>\n    </book>\n```"
          },
          "metadata": {}
        },
        {
          "output_type": "display_data",
          "data": {
            "text/plain": [
              "<IPython.core.display.Markdown object>"
            ],
            "text/markdown": "```xml\n<title>Learning XPath</title>\n```"
          },
          "metadata": {}
        },
        {
          "output_type": "display_data",
          "data": {
            "text/plain": [
              "<IPython.core.display.Markdown object>"
            ],
            "text/markdown": "```xml\n<author>Jane Smith</author>\n```"
          },
          "metadata": {}
        },
        {
          "output_type": "display_data",
          "data": {
            "text/plain": [
              "<IPython.core.display.Markdown object>"
            ],
            "text/markdown": "```xml\n<year>2019</year>\n```"
          },
          "metadata": {}
        },
        {
          "output_type": "display_data",
          "data": {
            "text/plain": [
              "<IPython.core.display.Markdown object>"
            ],
            "text/markdown": "```xml\n<price>19.99</price>\n```"
          },
          "metadata": {}
        },
        {
          "output_type": "display_data",
          "data": {
            "text/plain": [
              "<IPython.core.display.Markdown object>"
            ],
            "text/markdown": "```xml\n<book id=\"3\">\n        <title>Data Science Handbook</title>\n        <author>Emily Davis</author>\n        <year>2018</year>\n        <price>39.99</price>\n    </book>\n```"
          },
          "metadata": {}
        },
        {
          "output_type": "display_data",
          "data": {
            "text/plain": [
              "<IPython.core.display.Markdown object>"
            ],
            "text/markdown": "```xml\n<title>Data Science Handbook</title>\n```"
          },
          "metadata": {}
        },
        {
          "output_type": "display_data",
          "data": {
            "text/plain": [
              "<IPython.core.display.Markdown object>"
            ],
            "text/markdown": "```xml\n<author>Emily Davis</author>\n```"
          },
          "metadata": {}
        },
        {
          "output_type": "display_data",
          "data": {
            "text/plain": [
              "<IPython.core.display.Markdown object>"
            ],
            "text/markdown": "```xml\n<year>2018</year>\n```"
          },
          "metadata": {}
        },
        {
          "output_type": "display_data",
          "data": {
            "text/plain": [
              "<IPython.core.display.Markdown object>"
            ],
            "text/markdown": "```xml\n<price>39.99</price>\n```"
          },
          "metadata": {}
        }
      ]
    },
    {
      "cell_type": "markdown",
      "source": [
        "# 10. Additional XPath Functions and Expressions\n"
      ],
      "metadata": {
        "id": "5UFXSyVBunOA"
      }
    },
    {
      "cell_type": "markdown",
      "source": [
        "**a. Using `@` to Select Attributes:**"
      ],
      "metadata": {
        "id": "qHmOq4b4JF9j"
      }
    },
    {
      "cell_type": "code",
      "source": [
        "# Extract the IDs of all books\n",
        "book_ids = root.xpath('//book/@id')\n",
        "book_ids"
      ],
      "metadata": {
        "id": "w1O1klukufCL",
        "outputId": "d6193a20-33e3-4be6-b82e-0966322018b8",
        "colab": {
          "base_uri": "https://localhost:8080/"
        }
      },
      "execution_count": 24,
      "outputs": [
        {
          "output_type": "execute_result",
          "data": {
            "text/plain": [
              "['1', '2', '3']"
            ]
          },
          "metadata": {},
          "execution_count": 24
        }
      ]
    },
    {
      "cell_type": "markdown",
      "source": [
        "**b. Using Position Functions:**"
      ],
      "metadata": {
        "id": "sdbYCpZ0JMSS"
      }
    },
    {
      "cell_type": "code",
      "source": [
        "# Extract the title of the last book\n",
        "last_book_title_node = root.xpath('//book[last()]/title')\n",
        "# Display the content of the title node\n",
        "display_xml(last_book_title_node)"
      ],
      "metadata": {
        "id": "_9_ogoGTu_4N",
        "outputId": "58838db5-6628-46d6-813d-1ff67fe869e1",
        "colab": {
          "base_uri": "https://localhost:8080/",
          "height": 34
        }
      },
      "execution_count": 25,
      "outputs": [
        {
          "output_type": "display_data",
          "data": {
            "text/plain": [
              "<IPython.core.display.Markdown object>"
            ],
            "text/markdown": "```xml\n<title>Data Science Handbook</title>\n```"
          },
          "metadata": {}
        }
      ]
    },
    {
      "cell_type": "code",
      "source": [
        "# Extract the titles of the first two books\n",
        "first_two_books_title_nodes = root.xpath('//book[position() <= 2]/title')\n",
        "# Display the content of the title nodes\n",
        "display_xml(first_two_books_title_nodes)"
      ],
      "metadata": {
        "id": "x1ncF0kGJSYk",
        "outputId": "3fa8753b-8ab2-4b8e-8376-49fbb2530b60",
        "colab": {
          "base_uri": "https://localhost:8080/",
          "height": 52
        }
      },
      "execution_count": 26,
      "outputs": [
        {
          "output_type": "display_data",
          "data": {
            "text/plain": [
              "<IPython.core.display.Markdown object>"
            ],
            "text/markdown": "```xml\n<title>Python Programming</title>\n```"
          },
          "metadata": {}
        },
        {
          "output_type": "display_data",
          "data": {
            "text/plain": [
              "<IPython.core.display.Markdown object>"
            ],
            "text/markdown": "```xml\n<title>Learning XPath</title>\n```"
          },
          "metadata": {}
        }
      ]
    },
    {
      "cell_type": "markdown",
      "source": [
        "**c. Using Boolean Functions:**"
      ],
      "metadata": {
        "id": "E-NcrapfvntT"
      }
    },
    {
      "cell_type": "code",
      "source": [
        "# Check if there are any books published in 2020\n",
        "books_2020 = root.xpath('boolean(//book[year=2020])')\n",
        "books_2020"
      ],
      "metadata": {
        "id": "j1_qs4YWvSPR",
        "outputId": "f1faa0ea-45b8-4963-b8b3-e2226bf9ba61",
        "colab": {
          "base_uri": "https://localhost:8080/"
        }
      },
      "execution_count": 27,
      "outputs": [
        {
          "output_type": "execute_result",
          "data": {
            "text/plain": [
              "True"
            ]
          },
          "metadata": {},
          "execution_count": 27
        }
      ]
    },
    {
      "cell_type": "markdown",
      "source": [
        "**d. Using Aggregation Functions:**"
      ],
      "metadata": {
        "id": "JBFK2hgtJcQW"
      }
    },
    {
      "cell_type": "code",
      "source": [
        "# Count the number of books\n",
        "book_count = root.xpath('count(//book)')\n",
        "book_count"
      ],
      "metadata": {
        "id": "9UgslSuiwQZo",
        "outputId": "9624fa47-3774-48e4-d9a7-1cfba72729f3",
        "colab": {
          "base_uri": "https://localhost:8080/"
        }
      },
      "execution_count": 28,
      "outputs": [
        {
          "output_type": "execute_result",
          "data": {
            "text/plain": [
              "3.0"
            ]
          },
          "metadata": {},
          "execution_count": 28
        }
      ]
    },
    {
      "cell_type": "markdown",
      "source": [
        "**e. Combining Functions:**"
      ],
      "metadata": {
        "id": "YLs5l3pXwfea"
      }
    },
    {
      "cell_type": "code",
      "source": [
        "# Extract titles and authors of books costing more than $20\n",
        "expensive_books_nodes = root.xpath('//book[price > 20]')\n",
        "# Display the content of the book nodes\n",
        "display_xml(expensive_books_nodes)"
      ],
      "metadata": {
        "id": "j7411YVlwXFH",
        "outputId": "e201bfc3-4326-46b9-cc59-40e555a4d387",
        "colab": {
          "base_uri": "https://localhost:8080/",
          "height": 225
        }
      },
      "execution_count": 29,
      "outputs": [
        {
          "output_type": "display_data",
          "data": {
            "text/plain": [
              "<IPython.core.display.Markdown object>"
            ],
            "text/markdown": "```xml\n<book id=\"1\">\n        <title>Python Programming</title>\n        <author>John Doe</author>\n        <year>2020</year>\n        <price>29.99</price>\n    </book>\n```"
          },
          "metadata": {}
        },
        {
          "output_type": "display_data",
          "data": {
            "text/plain": [
              "<IPython.core.display.Markdown object>"
            ],
            "text/markdown": "```xml\n<book id=\"3\">\n        <title>Data Science Handbook</title>\n        <author>Emily Davis</author>\n        <year>2018</year>\n        <price>39.99</price>\n    </book>\n```"
          },
          "metadata": {}
        }
      ]
    },
    {
      "cell_type": "markdown",
      "source": [
        "# 11. Conclusion\n",
        "\n",
        "XPath is a powerful tool for navigating and querying XML documents. In this lab, we've covered basic to advanced XPath queries, explored lists, navigated using `..`, used `//` to select nodes regardless of their position, utilized the wildcard `*`, and explored various XPath functions and expressions without always relying on `text()`. You can further explore XPath to handle more complex XML structures and queries.\n",
        "\n"
      ],
      "metadata": {
        "id": "MSqUGlQMJm6Q"
      }
    },
    {
      "cell_type": "code",
      "source": [],
      "metadata": {
        "id": "nBcu4xjWMvPz"
      },
      "execution_count": null,
      "outputs": []
    }
  ]
}